{
  "nbformat": 4,
  "nbformat_minor": 0,
  "metadata": {
    "colab": {
      "provenance": [],
      "authorship_tag": "ABX9TyPYhjWF/0hzmNUaFs36s/dP",
      "include_colab_link": true
    },
    "kernelspec": {
      "name": "python3",
      "display_name": "Python 3"
    },
    "language_info": {
      "name": "python"
    }
  },
  "cells": [
    {
      "cell_type": "markdown",
      "metadata": {
        "id": "view-in-github",
        "colab_type": "text"
      },
      "source": [
        "<a href=\"https://colab.research.google.com/github/NhatHuy2k2/AI/blob/main/Week9_non_bin_output_ImageRegcognition_ANN.ipynb\" target=\"_parent\"><img src=\"https://colab.research.google.com/assets/colab-badge.svg\" alt=\"Open In Colab\"/></a>"
      ]
    },
    {
      "cell_type": "code",
      "execution_count": 1,
      "metadata": {
        "id": "NG-qKPKrFB4R"
      },
      "outputs": [],
      "source": [
        "from keras.datasets import mnist\n",
        "from keras.models import Sequential\n",
        "from keras.layers import Dense\n",
        "from keras import Input\n",
        "import matplotlib.pyplot as plt"
      ]
    },
    {
      "cell_type": "code",
      "source": [
        "from keras.datasets import cifar10\n",
        "\n",
        "(x_train, y_train), (x_test, y_test) = cifar10.load_data()\n",
        "#print(x_train.shape)\n",
        "#print(x_test.shape)\n",
        "print(x_train)"
      ],
      "metadata": {
        "colab": {
          "base_uri": "https://localhost:8080/"
        },
        "id": "DzlhdCE3FVYM",
        "outputId": "77defd56-3587-4b60-8ea7-e8755d0d9e30"
      },
      "execution_count": 57,
      "outputs": [
        {
          "output_type": "stream",
          "name": "stdout",
          "text": [
            "[[[[ 59  62  63]\n",
            "   [ 43  46  45]\n",
            "   [ 50  48  43]\n",
            "   ...\n",
            "   [158 132 108]\n",
            "   [152 125 102]\n",
            "   [148 124 103]]\n",
            "\n",
            "  [[ 16  20  20]\n",
            "   [  0   0   0]\n",
            "   [ 18   8   0]\n",
            "   ...\n",
            "   [123  88  55]\n",
            "   [119  83  50]\n",
            "   [122  87  57]]\n",
            "\n",
            "  [[ 25  24  21]\n",
            "   [ 16   7   0]\n",
            "   [ 49  27   8]\n",
            "   ...\n",
            "   [118  84  50]\n",
            "   [120  84  50]\n",
            "   [109  73  42]]\n",
            "\n",
            "  ...\n",
            "\n",
            "  [[208 170  96]\n",
            "   [201 153  34]\n",
            "   [198 161  26]\n",
            "   ...\n",
            "   [160 133  70]\n",
            "   [ 56  31   7]\n",
            "   [ 53  34  20]]\n",
            "\n",
            "  [[180 139  96]\n",
            "   [173 123  42]\n",
            "   [186 144  30]\n",
            "   ...\n",
            "   [184 148  94]\n",
            "   [ 97  62  34]\n",
            "   [ 83  53  34]]\n",
            "\n",
            "  [[177 144 116]\n",
            "   [168 129  94]\n",
            "   [179 142  87]\n",
            "   ...\n",
            "   [216 184 140]\n",
            "   [151 118  84]\n",
            "   [123  92  72]]]\n",
            "\n",
            "\n",
            " [[[154 177 187]\n",
            "   [126 137 136]\n",
            "   [105 104  95]\n",
            "   ...\n",
            "   [ 91  95  71]\n",
            "   [ 87  90  71]\n",
            "   [ 79  81  70]]\n",
            "\n",
            "  [[140 160 169]\n",
            "   [145 153 154]\n",
            "   [125 125 118]\n",
            "   ...\n",
            "   [ 96  99  78]\n",
            "   [ 77  80  62]\n",
            "   [ 71  73  61]]\n",
            "\n",
            "  [[140 155 164]\n",
            "   [139 146 149]\n",
            "   [115 115 112]\n",
            "   ...\n",
            "   [ 79  82  64]\n",
            "   [ 68  70  55]\n",
            "   [ 67  69  55]]\n",
            "\n",
            "  ...\n",
            "\n",
            "  [[175 167 166]\n",
            "   [156 154 160]\n",
            "   [154 160 170]\n",
            "   ...\n",
            "   [ 42  34  36]\n",
            "   [ 61  53  57]\n",
            "   [ 93  83  91]]\n",
            "\n",
            "  [[165 154 128]\n",
            "   [156 152 130]\n",
            "   [159 161 142]\n",
            "   ...\n",
            "   [103  93  96]\n",
            "   [123 114 120]\n",
            "   [131 121 131]]\n",
            "\n",
            "  [[163 148 120]\n",
            "   [158 148 122]\n",
            "   [163 156 133]\n",
            "   ...\n",
            "   [143 133 139]\n",
            "   [143 134 142]\n",
            "   [143 133 144]]]\n",
            "\n",
            "\n",
            " [[[255 255 255]\n",
            "   [253 253 253]\n",
            "   [253 253 253]\n",
            "   ...\n",
            "   [253 253 253]\n",
            "   [253 253 253]\n",
            "   [253 253 253]]\n",
            "\n",
            "  [[255 255 255]\n",
            "   [255 255 255]\n",
            "   [255 255 255]\n",
            "   ...\n",
            "   [255 255 255]\n",
            "   [255 255 255]\n",
            "   [255 255 255]]\n",
            "\n",
            "  [[255 255 255]\n",
            "   [254 254 254]\n",
            "   [254 254 254]\n",
            "   ...\n",
            "   [254 254 254]\n",
            "   [254 254 254]\n",
            "   [254 254 254]]\n",
            "\n",
            "  ...\n",
            "\n",
            "  [[113 120 112]\n",
            "   [111 118 111]\n",
            "   [105 112 106]\n",
            "   ...\n",
            "   [ 72  81  80]\n",
            "   [ 72  80  79]\n",
            "   [ 72  80  79]]\n",
            "\n",
            "  [[111 118 110]\n",
            "   [104 111 104]\n",
            "   [ 99 106  98]\n",
            "   ...\n",
            "   [ 68  75  73]\n",
            "   [ 70  76  75]\n",
            "   [ 78  84  82]]\n",
            "\n",
            "  [[106 113 105]\n",
            "   [ 99 106  98]\n",
            "   [ 95 102  94]\n",
            "   ...\n",
            "   [ 78  85  83]\n",
            "   [ 79  85  83]\n",
            "   [ 80  86  84]]]\n",
            "\n",
            "\n",
            " ...\n",
            "\n",
            "\n",
            " [[[ 35 178 235]\n",
            "   [ 40 176 239]\n",
            "   [ 42 176 241]\n",
            "   ...\n",
            "   [ 99 177 219]\n",
            "   [ 79 147 197]\n",
            "   [ 89 148 189]]\n",
            "\n",
            "  [[ 57 182 234]\n",
            "   [ 44 184 250]\n",
            "   [ 50 183 240]\n",
            "   ...\n",
            "   [156 182 200]\n",
            "   [141 177 206]\n",
            "   [116 149 175]]\n",
            "\n",
            "  [[ 98 197 237]\n",
            "   [ 64 189 252]\n",
            "   [ 69 192 245]\n",
            "   ...\n",
            "   [188 195 206]\n",
            "   [119 135 147]\n",
            "   [ 61  79  90]]\n",
            "\n",
            "  ...\n",
            "\n",
            "  [[ 73  79  77]\n",
            "   [ 53  63  68]\n",
            "   [ 54  68  80]\n",
            "   ...\n",
            "   [ 17  40  64]\n",
            "   [ 21  36  51]\n",
            "   [ 33  48  49]]\n",
            "\n",
            "  [[ 61  68  75]\n",
            "   [ 55  70  86]\n",
            "   [ 57  79 103]\n",
            "   ...\n",
            "   [ 24  48  72]\n",
            "   [ 17  35  53]\n",
            "   [  7  23  32]]\n",
            "\n",
            "  [[ 44  56  73]\n",
            "   [ 46  66  88]\n",
            "   [ 49  77 105]\n",
            "   ...\n",
            "   [ 27  52  77]\n",
            "   [ 21  43  66]\n",
            "   [ 12  31  50]]]\n",
            "\n",
            "\n",
            " [[[189 211 240]\n",
            "   [186 208 236]\n",
            "   [185 207 235]\n",
            "   ...\n",
            "   [175 195 224]\n",
            "   [172 194 222]\n",
            "   [169 194 220]]\n",
            "\n",
            "  [[194 210 239]\n",
            "   [191 207 236]\n",
            "   [190 206 235]\n",
            "   ...\n",
            "   [173 192 220]\n",
            "   [171 191 218]\n",
            "   [167 190 216]]\n",
            "\n",
            "  [[208 219 244]\n",
            "   [205 216 240]\n",
            "   [204 215 239]\n",
            "   ...\n",
            "   [175 191 217]\n",
            "   [172 190 216]\n",
            "   [169 191 215]]\n",
            "\n",
            "  ...\n",
            "\n",
            "  [[207 199 181]\n",
            "   [203 195 175]\n",
            "   [203 196 173]\n",
            "   ...\n",
            "   [135 132 127]\n",
            "   [162 158 150]\n",
            "   [168 163 151]]\n",
            "\n",
            "  [[198 190 170]\n",
            "   [189 181 159]\n",
            "   [180 172 147]\n",
            "   ...\n",
            "   [178 171 160]\n",
            "   [175 169 156]\n",
            "   [175 169 154]]\n",
            "\n",
            "  [[198 189 173]\n",
            "   [189 181 162]\n",
            "   [178 170 149]\n",
            "   ...\n",
            "   [195 184 169]\n",
            "   [196 189 171]\n",
            "   [195 190 171]]]\n",
            "\n",
            "\n",
            " [[[229 229 239]\n",
            "   [236 237 247]\n",
            "   [234 236 247]\n",
            "   ...\n",
            "   [217 219 233]\n",
            "   [221 223 234]\n",
            "   [222 223 233]]\n",
            "\n",
            "  [[222 221 229]\n",
            "   [239 239 249]\n",
            "   [233 234 246]\n",
            "   ...\n",
            "   [223 223 236]\n",
            "   [227 228 238]\n",
            "   [210 211 220]]\n",
            "\n",
            "  [[213 206 211]\n",
            "   [234 232 239]\n",
            "   [231 233 244]\n",
            "   ...\n",
            "   [220 220 232]\n",
            "   [220 219 232]\n",
            "   [202 203 215]]\n",
            "\n",
            "  ...\n",
            "\n",
            "  [[150 143 135]\n",
            "   [140 135 127]\n",
            "   [132 127 120]\n",
            "   ...\n",
            "   [224 222 218]\n",
            "   [230 228 225]\n",
            "   [241 241 238]]\n",
            "\n",
            "  [[137 132 126]\n",
            "   [130 127 120]\n",
            "   [125 121 115]\n",
            "   ...\n",
            "   [181 180 178]\n",
            "   [202 201 198]\n",
            "   [212 211 207]]\n",
            "\n",
            "  [[122 119 114]\n",
            "   [118 116 110]\n",
            "   [120 116 111]\n",
            "   ...\n",
            "   [179 177 173]\n",
            "   [164 164 162]\n",
            "   [163 163 161]]]]\n"
          ]
        }
      ]
    },
    {
      "cell_type": "code",
      "source": [
        "Hinh = x_train[10]\n",
        "print(Hinh.shape)\n",
        "plt.imshow(Hinh,cmap = plt.cm.binary)\n",
        "plt.show\n",
        "print(\"Hinh nay la: \", y_train[10])"
      ],
      "metadata": {
        "colab": {
          "base_uri": "https://localhost:8080/",
          "height": 301
        },
        "id": "n76AXgQSGaB7",
        "outputId": "4fb5dddb-8314-40f4-b7ed-49641c78f670"
      },
      "execution_count": 8,
      "outputs": [
        {
          "output_type": "stream",
          "name": "stdout",
          "text": [
            "(32, 32, 3)\n",
            "Hinh nay la:  [4]\n"
          ]
        },
        {
          "output_type": "display_data",
          "data": {
            "text/plain": [
              "<Figure size 432x288 with 1 Axes>"
            ],
            "image/png": "[encoded data removed]"
          },
          "metadata": {
            "needs_background": "light"
          }
        }
      ]
    },
    {
      "cell_type": "code",
      "source": [
        "for i in range(10):\n",
        "  plt.subplot(3,5,i+1)\n",
        "  plt.tight_layout()\n",
        "  plt.imshow(x_train[i], cmap = 'gray', interpolation = 'none')\n",
        "  plt.title('Hình:{}'.format(y_train[i]))\n",
        "  plt.xticks([])\n",
        "  plt.yticks([])\n",
        "  #0 -> Airplane\n",
        "  #1 -> Car\n",
        "  #2 -> Bird\n",
        "  #3 -> Cat\n",
        "  #4 -> Deer\n",
        "  #5 -> Dog\n",
        "  #6 -> Frog\n",
        "  #7 -> Horse\n",
        "  #8 -> Ship\n",
        "  #9 -> Truck"
      ],
      "metadata": {
        "colab": {
          "base_uri": "https://localhost:8080/",
          "height": 196
        },
        "id": "7g2kqYnQG8rD",
        "outputId": "fbe0efd1-967c-4348-9879-06194ae3047f"
      },
      "execution_count": 5,
      "outputs": [
        {
          "output_type": "display_data",
          "data": {
            "text/plain": [
              "<Figure size 432x288 with 10 Axes>"
            ],
            "image/png": "[encoded data removed]"
          },
          "metadata": {}
        }
      ]
    },
    {
      "cell_type": "code",
      "source": [
        "model = Sequential()\n",
        "model.add(Dense(512,activation = \"relu\", input_shape = (32*32*3,),name = 'layer1'))\n",
        "model.add(Dense(256,activation = \"relu\",name = 'layer2'))\n",
        "model.add(Dense(128,activation = \"relu\",name = 'layer3'))\n",
        "model.add(Dense(10, activation = \"softmax\",name = 'layer4'))\n",
        "model.summary"
      ],
      "metadata": {
        "colab": {
          "base_uri": "https://localhost:8080/"
        },
        "id": "l4PdwBv2Hi1c",
        "outputId": "eca1c0b4-aa4a-4432-b590-0bc188a4346d"
      },
      "execution_count": 49,
      "outputs": [
        {
          "output_type": "execute_result",
          "data": {
            "text/plain": [
              "<bound method Model.summary of <keras.engine.sequential.Sequential object at 0x7f297c486ac0>>"
            ]
          },
          "metadata": {},
          "execution_count": 49
        }
      ]
    },
    {
      "cell_type": "code",
      "source": [
        "x_train = x_train.reshape((50000, 32*32*3)) #chỉnh lại kích thước của dữ liệu đầu vào\n",
        "\n",
        "x_train = x_train.astype('float32')/255 #astype qua float để thực hiện phép chia\n",
        "#print(x_train)"
      ],
      "metadata": {
        "colab": {
          "base_uri": "https://localhost:8080/"
        },
        "id": "Gtab8lDOIvzr",
        "outputId": "1d304584-8406-4198-f121-0db40329d328"
      },
      "execution_count": 59,
      "outputs": [
        {
          "output_type": "stream",
          "name": "stdout",
          "text": [
            "[[0.00090734 0.00095348 0.00096886 ... 0.00189158 0.00141484 0.00110727]\n",
            " [0.00236832 0.00272203 0.00287582 ... 0.00219915 0.00204537 0.00221453]\n",
            " [0.00392157 0.00392157 0.00392157 ... 0.0012303  0.00132257 0.00129181]\n",
            " ...\n",
            " [0.00053825 0.00273741 0.00361399 ... 0.00018454 0.00047674 0.00076894]\n",
            " [0.00290657 0.00324491 0.00369089 ... 0.00299885 0.00292195 0.00262976]\n",
            " [0.00352172 0.00352172 0.00367551 ... 0.00250673 0.00250673 0.00247597]]\n"
          ]
        }
      ]
    },
    {
      "cell_type": "code",
      "source": [
        "x_test = x_test.reshape((10000,32*32*3))\n",
        "x_test = x_test.astype('float32')/255"
      ],
      "metadata": {
        "id": "fox-fB4gKLiW"
      },
      "execution_count": 51,
      "outputs": []
    },
    {
      "cell_type": "code",
      "source": [
        "from keras.utils import to_categorical #chuyển thành one hot encoding\n",
        "train_labels = to_categorical(y_train,10)#chuyển thành 10 bit one hot encoding\n",
        "test_labels =to_categorical(y_test,10)\n",
        "print(test_labels)"
      ],
      "metadata": {
        "colab": {
          "base_uri": "https://localhost:8080/"
        },
        "id": "VeVhkzFpKqyc",
        "outputId": "dd59371b-7f7a-441f-bf24-5c1fe2928111"
      },
      "execution_count": 52,
      "outputs": [
        {
          "output_type": "stream",
          "name": "stdout",
          "text": [
            "[[0. 0. 0. ... 0. 0. 0.]\n",
            " [0. 0. 0. ... 0. 1. 0.]\n",
            " [0. 0. 0. ... 0. 1. 0.]\n",
            " ...\n",
            " [0. 0. 0. ... 0. 0. 0.]\n",
            " [0. 1. 0. ... 0. 0. 0.]\n",
            " [0. 0. 0. ... 1. 0. 0.]]\n"
          ]
        }
      ]
    },
    {
      "cell_type": "code",
      "source": [
        "print(x_train.shape)\n",
        "print(x_train.shape)"
      ],
      "metadata": {
        "colab": {
          "base_uri": "https://localhost:8080/"
        },
        "id": "bje_1tEmMDiE",
        "outputId": "b1ff9243-7d7e-4750-ee07-dc6e7d73f91d"
      },
      "execution_count": 53,
      "outputs": [
        {
          "output_type": "stream",
          "name": "stdout",
          "text": [
            "(50000, 3072)\n",
            "(50000, 3072)\n"
          ]
        }
      ]
    },
    {
      "cell_type": "code",
      "source": [
        "model.compile(optimizer = 'rmsprop', loss = 'categorical_crossentropy', metrics = ['accuracy'])\n",
        "model.fit(x_train, train_labels, epochs = 10, batch_size = 128)\n",
        "test_loss, test_acc = model.evaluate(x_test, test_labels)\n",
        "print('test_accuracy: ', test_acc)\n",
        "print('test_loss: ', test_loss)"
      ],
      "metadata": {
        "colab": {
          "base_uri": "https://localhost:8080/"
        },
        "id": "6bP8HrcFLGIU",
        "outputId": "b2a1db9c-c004-4716-9ed7-d88cd8c1132f"
      },
      "execution_count": 54,
      "outputs": [
        {
          "output_type": "stream",
          "name": "stdout",
          "text": [
            "Epoch 1/10\n",
            "391/391 [==============================] - 10s 23ms/step - loss: 2.1827 - accuracy: 0.1647\n",
            "Epoch 2/10\n",
            "391/391 [==============================] - 9s 23ms/step - loss: 1.9821 - accuracy: 0.2587\n",
            "Epoch 3/10\n",
            "391/391 [==============================] - 12s 30ms/step - loss: 1.9040 - accuracy: 0.2993\n",
            "Epoch 4/10\n",
            "391/391 [==============================] - 8s 21ms/step - loss: 1.8286 - accuracy: 0.3366\n",
            "Epoch 5/10\n",
            "391/391 [==============================] - 9s 23ms/step - loss: 1.7622 - accuracy: 0.3596\n",
            "Epoch 6/10\n",
            "391/391 [==============================] - 10s 27ms/step - loss: 1.7117 - accuracy: 0.3792\n",
            "Epoch 7/10\n",
            "391/391 [==============================] - 10s 24ms/step - loss: 1.6738 - accuracy: 0.3956\n",
            "Epoch 8/10\n",
            "391/391 [==============================] - 8s 21ms/step - loss: 1.6371 - accuracy: 0.4093\n",
            "Epoch 9/10\n",
            "391/391 [==============================] - 9s 23ms/step - loss: 1.6065 - accuracy: 0.4218\n",
            "Epoch 10/10\n",
            "391/391 [==============================] - 12s 30ms/step - loss: 1.5764 - accuracy: 0.4342\n",
            "313/313 [==============================] - 1s 4ms/step - loss: 1.5585 - accuracy: 0.4460\n",
            "test_accuracy:  0.44600000977516174\n",
            "test_loss:  1.5585027933120728\n"
          ]
        }
      ]
    }
  ]
}