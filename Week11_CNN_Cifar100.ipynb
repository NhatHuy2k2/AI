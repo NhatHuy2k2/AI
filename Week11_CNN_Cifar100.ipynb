{
  "nbformat": 4,
  "nbformat_minor": 0,
  "metadata": {
    "colab": {
      "provenance": [],
      "authorship_tag": "ABX9TyOSVgptos3/omtsWdZj2Fa6",
      "include_colab_link": true
    },
    "kernelspec": {
      "name": "python3",
      "display_name": "Python 3"
    },
    "language_info": {
      "name": "python"
    },
    "accelerator": "GPU",
    "gpuClass": "standard"
  },
  "cells": [
    {
      "cell_type": "markdown",
      "metadata": {
        "id": "view-in-github",
        "colab_type": "text"
      },
      "source": [
        "<a href=\"https://colab.research.google.com/github/NhatHuy2k2/AI/blob/main/Week11_CNN_Cifar100.ipynb\" target=\"_parent\"><img src=\"https://colab.research.google.com/assets/colab-badge.svg\" alt=\"Open In Colab\"/></a>"
      ]
    },
    {
      "cell_type": "code",
      "execution_count": 9,
      "metadata": {
        "id": "WbOB_PtXS3di"
      },
      "outputs": [],
      "source": [
        "from keras.datasets import cifar100\n",
        "from keras.models import Sequential, model_from_config\n",
        "from keras.layers import Dense, Flatten, Dropout, Conv2D, MaxPooling2D, Normalization\n",
        "from keras import Input\n",
        "import matplotlib.pyplot as plt\n",
        "from keras.utils import to_categorical"
      ]
    },
    {
      "cell_type": "code",
      "source": [
        "(x_train, y_train), (x_test, y_test) = cifar100.load_data()\n",
        "print(x_train.shape)\n",
        "print(x_test.shape)"
      ],
      "metadata": {
        "colab": {
          "base_uri": "https://localhost:8080/"
        },
        "id": "6-z_wRcwTp3D",
        "outputId": "452216fe-26fe-4251-d80d-f0e668b07548"
      },
      "execution_count": 2,
      "outputs": [
        {
          "output_type": "stream",
          "name": "stdout",
          "text": [
            "Downloading data from https://www.cs.toronto.edu/~kriz/cifar-100-python.tar.gz\n",
            "169001437/169001437 [==============================] - 6s 0us/step\n",
            "(50000, 32, 32, 3)\n",
            "(10000, 32, 32, 3)\n"
          ]
        }
      ]
    },
    {
      "cell_type": "code",
      "source": [
        "# Chuẩn bị dữ liệu đầu vào, biến đổi mảng 4 chiều (50000, 32, 32, 3) (50000 bức hình, kích thước 32x32, 3 kênh màu) thành mảng 2 chiều (50000, 3072)\n",
        "x_train = x_train.reshape((50000, 32,32,3)) #chỉnh lại kích thước của dữ liệu đầu vào\n",
        "x_train = x_train.astype('float32')/255 #astype qua float để thực hiện phép chia\n",
        "print(x_train.shape)\n",
        "\n",
        "x_test = x_test.reshape((10000, 32,32,3)) #chỉnh lại kích thước của dữ liệu đầu vào\n",
        "x_test = x_test.astype('float32')/255 #astype qua float để thực hiện phép chia\n",
        "print(x_test.shape)"
      ],
      "metadata": {
        "colab": {
          "base_uri": "https://localhost:8080/"
        },
        "id": "CTWe14XiTvBD",
        "outputId": "e9baccc3-a3cb-474a-90d5-6935e18d8ede"
      },
      "execution_count": 5,
      "outputs": [
        {
          "output_type": "stream",
          "name": "stdout",
          "text": [
            "(50000, 32, 32, 3)\n",
            "(10000, 32, 32, 3)\n"
          ]
        }
      ]
    },
    {
      "cell_type": "code",
      "source": [
        "x_train = x_train.astype('float32')/255\n",
        "x_test = x_test.astype('float32')/255"
      ],
      "metadata": {
        "id": "Cjv6VypDUC1T"
      },
      "execution_count": 6,
      "outputs": []
    },
    {
      "cell_type": "code",
      "source": [
        "from keras.utils import to_categorical\n",
        "y_train_categorized = to_categorical(y_train)\n",
        "y_test_categorized = to_categorical(y_test)"
      ],
      "metadata": {
        "id": "MRHsxqUFUQ7E"
      },
      "execution_count": 16,
      "outputs": []
    },
    {
      "cell_type": "code",
      "source": [
        "# Normalization: chuẩn hóa dữ liệu\n",
        "from keras.optimizers import Adam\n",
        "batch_size = 64 # Lô học \n",
        "epochs = 10 # Số lần học\n",
        "classes = 100 # Phân loại\n"
      ],
      "metadata": {
        "id": "ZPTuKv7wUnyL"
      },
      "execution_count": 12,
      "outputs": []
    },
    {
      "cell_type": "code",
      "source": [
        "model = Sequential()\n",
        "model.add(Conv2D(32, kernel_size = (3,3), activation = 'linear', input_shape = (32, 32, 3), padding = 'same'))\n",
        "#Conv2d(): tham số đầu: số lần nhân tích chập; tham số thứ 2: kích thước kernel\n",
        "from keras.layers import LeakyReLU\n",
        "model.add(LeakyReLU(alpha = 0.1))\n",
        "model.add(MaxPooling2D((2,2), padding = 'same'))\n",
        "model.add(Conv2D(64, (3,3), activation = 'linear', padding = 'same'))\n",
        "\n",
        "model.add(Conv2D(64, kernel_size = (3,3), activation = 'linear', input_shape = (32, 32, 3), padding = 'same'))\n",
        "model.add(LeakyReLU(alpha = 0.1))\n",
        "model.add(MaxPooling2D((2,2), padding = 'same'))\n",
        "\n",
        "model.add(Conv2D(128, kernel_size = (3,3), activation = 'linear', input_shape = (32, 32, 3), padding = 'same'))\n",
        "model.add(LeakyReLU(alpha = 0.1))\n",
        "model.add(MaxPooling2D((2,2), padding = 'same'))\n"
      ],
      "metadata": {
        "id": "WhmSFTiWUtJT"
      },
      "execution_count": 10,
      "outputs": []
    },
    {
      "cell_type": "code",
      "source": [
        "model.add(Flatten()) # Flatten: hàm ép kiểu ma trận thành vector\n",
        "model.add(Dense(128,activation = \"linear\"))\n",
        "model.add(LeakyReLU(alpha = 0.1))\n",
        "model.add(Dense(classes, activation = \"softmax\"))"
      ],
      "metadata": {
        "id": "bOxf9Jj2VKTj"
      },
      "execution_count": 13,
      "outputs": []
    },
    {
      "cell_type": "code",
      "source": [
        "model.compile(loss = 'categorical_crossentropy', optimizer = Adam(), metrics = ['accuracy'])\n",
        "model.summary()\n",
        "train = model.fit(x_train, y_train_categorized, batch_size = batch_size, epochs = epochs, verbose = 1)\n",
        "# verbose: hiển thị kết quả"
      ],
      "metadata": {
        "colab": {
          "base_uri": "https://localhost:8080/"
        },
        "id": "ApkCl2nLVRAk",
        "outputId": "668632ac-55f7-4e8f-dfe4-271c0867ef3a"
      },
      "execution_count": 18,
      "outputs": [
        {
          "output_type": "stream",
          "name": "stdout",
          "text": [
            "Model: \"sequential\"\n",
            "_________________________________________________________________\n",
            " Layer (type)                Output Shape              Param #   \n",
            "=================================================================\n",
            " conv2d (Conv2D)             (None, 32, 32, 32)        896       \n",
            "                                                                 \n",
            " leaky_re_lu (LeakyReLU)     (None, 32, 32, 32)        0         \n",
            "                                                                 \n",
            " max_pooling2d (MaxPooling2D  (None, 16, 16, 32)       0         \n",
            " )                                                               \n",
            "                                                                 \n",
            " conv2d_1 (Conv2D)           (None, 16, 16, 64)        18496     \n",
            "                                                                 \n",
            " conv2d_2 (Conv2D)           (None, 16, 16, 64)        36928     \n",
            "                                                                 \n",
            " leaky_re_lu_1 (LeakyReLU)   (None, 16, 16, 64)        0         \n",
            "                                                                 \n",
            " max_pooling2d_1 (MaxPooling  (None, 8, 8, 64)         0         \n",
            " 2D)                                                             \n",
            "                                                                 \n",
            " conv2d_3 (Conv2D)           (None, 8, 8, 128)         73856     \n",
            "                                                                 \n",
            " leaky_re_lu_2 (LeakyReLU)   (None, 8, 8, 128)         0         \n",
            "                                                                 \n",
            " max_pooling2d_2 (MaxPooling  (None, 4, 4, 128)        0         \n",
            " 2D)                                                             \n",
            "                                                                 \n",
            " flatten (Flatten)           (None, 2048)              0         \n",
            "                                                                 \n",
            " dense (Dense)               (None, 128)               262272    \n",
            "                                                                 \n",
            " leaky_re_lu_3 (LeakyReLU)   (None, 128)               0         \n",
            "                                                                 \n",
            " flatten_1 (Flatten)         (None, 128)               0         \n",
            "                                                                 \n",
            " dense_1 (Dense)             (None, 128)               16512     \n",
            "                                                                 \n",
            " leaky_re_lu_4 (LeakyReLU)   (None, 128)               0         \n",
            "                                                                 \n",
            " dense_2 (Dense)             (None, 100)               12900     \n",
            "                                                                 \n",
            "=================================================================\n",
            "Total params: 421,860\n",
            "Trainable params: 421,860\n",
            "Non-trainable params: 0\n",
            "_________________________________________________________________\n",
            "Epoch 1/5\n",
            "782/782 [==============================] - 6s 6ms/step - loss: 4.6097 - accuracy: 0.0094\n",
            "Epoch 2/5\n",
            "782/782 [==============================] - 4s 6ms/step - loss: 4.6076 - accuracy: 0.0089\n",
            "Epoch 3/5\n",
            "782/782 [==============================] - 5s 6ms/step - loss: 4.6067 - accuracy: 0.0090\n",
            "Epoch 4/5\n",
            "782/782 [==============================] - 4s 6ms/step - loss: 4.6107 - accuracy: 0.0093\n",
            "Epoch 5/5\n",
            "782/782 [==============================] - 4s 6ms/step - loss: 4.6079 - accuracy: 0.0091\n"
          ]
        }
      ]
    }
  ]
}