{
  "nbformat": 4,
  "nbformat_minor": 0,
  "metadata": {
    "colab": {
      "provenance": [],
      "authorship_tag": "ABX9TyObfTxjgX23ZDl/bMA9TosE",
      "include_colab_link": true
    },
    "kernelspec": {
      "name": "python3",
      "display_name": "Python 3"
    },
    "language_info": {
      "name": "python"
    }
  },
  "cells": [
    {
      "cell_type": "markdown",
      "metadata": {
        "id": "view-in-github",
        "colab_type": "text"
      },
      "source": [
        "<a href=\"https://colab.research.google.com/github/NhatHuy2k2/AI/blob/main/Week8_ANN_iris.ipynb\" target=\"_parent\"><img src=\"https://colab.research.google.com/assets/colab-badge.svg\" alt=\"Open In Colab\"/></a>"
      ]
    },
    {
      "cell_type": "code",
      "execution_count": null,
      "metadata": {
        "id": "gF4V5lSYv5bX"
      },
      "outputs": [],
      "source": [
        "from sklearn.linear_model import Perceptron\n",
        "from sklearn import datasets\n",
        "from sklearn.model_selection import train_test_split\n",
        "from sklearn.metrics import accuracy_score\n",
        "from sklearn.preprocessing import StandardScaler\n",
        "import numpy as np\n",
        "# sklearn: thư viện cho machine learning, deep learning, ANN, ..."
      ]
    },
    {
      "cell_type": "markdown",
      "source": [
        "Training an iris recognition model\n",
        "\n"
      ],
      "metadata": {
        "id": "hkO8lU2fxcKK"
      }
    },
    {
      "cell_type": "code",
      "source": [
        "iris = datasets.load_iris()\n",
        "#print(iris)\n"
      ],
      "metadata": {
        "id": "sl6Y2-cVIy2a"
      },
      "execution_count": 83,
      "outputs": []
    },
    {
      "cell_type": "code",
      "source": [
        "x = iris.data\n",
        "y = iris.target\n",
        "print(x[:5])\n",
        "print(y[:5])"
      ],
      "metadata": {
        "colab": {
          "base_uri": "https://localhost:8080/"
        },
        "id": "gDCSja5UJEsq",
        "outputId": "bdd02b9a-55a1-4a56-d678-c47ea9111985"
      },
      "execution_count": 84,
      "outputs": [
        {
          "output_type": "stream",
          "name": "stdout",
          "text": [
            "[[5.1 3.5 1.4 0.2]\n",
            " [4.9 3.  1.4 0.2]\n",
            " [4.7 3.2 1.3 0.2]\n",
            " [4.6 3.1 1.5 0.2]\n",
            " [5.  3.6 1.4 0.2]]\n",
            "[0 0 0 0 0]\n"
          ]
        }
      ]
    },
    {
      "cell_type": "code",
      "source": [
        "x_train, x_test, y_train, y_test = train_test_split(x,y,test_size=0.3)\n",
        "sc = StandardScaler()\n",
        "sc.fit(x_train)\n",
        "x_train_std = sc.transform(x_train)\n",
        "x_test_std = sc.transform(x_test)\n",
        "\n",
        "print(x_train_std[:5])\n",
        "\n",
        "print(x_train.shape)\n",
        "print(x_test.shape)\n",
        "print(y_train.shape)\n",
        "print(y_test.shape)\n"
      ],
      "metadata": {
        "colab": {
          "base_uri": "https://localhost:8080/"
        },
        "id": "T8cDrIDVxg3x",
        "outputId": "c2801284-a8c1-4b7c-8356-74ed11b480f9"
      },
      "execution_count": 85,
      "outputs": [
        {
          "output_type": "stream",
          "name": "stdout",
          "text": [
            "[[-0.39119315 -1.82334276  0.19330193  0.15854007]\n",
            " [-1.39302926  0.31444745 -1.19450678 -1.28330075]\n",
            " [-1.01734072  1.26457643 -1.3101575  -1.28330075]\n",
            " [-1.14257023  0.0769152  -1.25233214 -1.28330075]\n",
            " [-0.01550461 -1.11074602  0.19330193  0.02746363]]\n",
            "(105, 4)\n",
            "(45, 4)\n",
            "(105,)\n",
            "(45,)\n"
          ]
        }
      ]
    },
    {
      "cell_type": "code",
      "source": [
        "model = Perceptron(max_iter = 100, eta0 = 0.1, random_state = 0)\n",
        "#model: số lần học\n",
        "#eta: tốc độ học, có giá trị từ (0,1), tốc độ càng nhỏ càng chính xác*\n",
        "model.fit(x_train_std, y_train)\n",
        "y_pred = model.predict(x_test_std)\n",
        "print(y_pred)\n",
        "print(y_test)\n",
        "print(\"Độ chính xác của mô hình: \", accuracy_score(y_test, y_pred))"
      ],
      "metadata": {
        "colab": {
          "base_uri": "https://localhost:8080/"
        },
        "id": "pq5G97gpIVTq",
        "outputId": "f7b8040f-05e3-475e-eb4a-290a834b8bdd"
      },
      "execution_count": 86,
      "outputs": [
        {
          "output_type": "stream",
          "name": "stdout",
          "text": [
            "[0 1 1 1 1 2 1 1 1 1 1 0 1 0 0 2 1 1 0 1 1 0 0 1 1 1 0 2 1 0 1 2 0 1 2 0 1\n",
            " 0 1 2 0 1 2 1 1]\n",
            "[0 1 2 1 1 2 2 1 2 1 2 0 2 0 0 2 1 2 0 2 2 0 0 1 1 1 0 2 1 0 1 2 0 1 2 0 1\n",
            " 0 2 2 0 2 2 2 1]\n",
            "Độ chính xác của mô hình:  0.7555555555555555\n"
          ]
        }
      ]
    }
  ]
}