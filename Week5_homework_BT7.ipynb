{
  "nbformat": 4,
  "nbformat_minor": 0,
  "metadata": {
    "colab": {
      "provenance": [],
      "authorship_tag": "ABX9TyOw3O7aFMJxGkO91qK+/f6C",
      "include_colab_link": true
    },
    "kernelspec": {
      "name": "python3",
      "display_name": "Python 3"
    },
    "language_info": {
      "name": "python"
    }
  },
  "cells": [
    {
      "cell_type": "markdown",
      "metadata": {
        "id": "view-in-github",
        "colab_type": "text"
      },
      "source": [
        "<a href=\"https://colab.research.google.com/github/NhatHuy2k2/AI/blob/main/Week5_homework_BT7.ipynb\" target=\"_parent\"><img src=\"https://colab.research.google.com/assets/colab-badge.svg\" alt=\"Open In Colab\"/></a>"
      ]
    },
    {
      "cell_type": "code",
      "execution_count": 1,
      "metadata": {
        "colab": {
          "base_uri": "https://localhost:8080/"
        },
        "id": "9w21KDEf6Bk4",
        "outputId": "3e0e502a-44d2-47c5-a4fc-bceb12cab74e"
      },
      "outputs": [
        {
          "output_type": "stream",
          "name": "stdout",
          "text": [
            "Looking in indexes: https://pypi.org/simple, https://us-python.pkg.dev/colab-wheels/public/simple/\n",
            "Collecting scikit-fuzzy\n",
            "  Downloading scikit-fuzzy-0.4.2.tar.gz (993 kB)\n",
            "\u001b[2K     \u001b[90m━━━━━━━━━━━━━━━━━━━━━━━━━━━━━━━━━━━━━━\u001b[0m \u001b[32m994.0/994.0 KB\u001b[0m \u001b[31m13.5 MB/s\u001b[0m eta \u001b[36m0:00:00\u001b[0m\n",
            "\u001b[?25h  Preparing metadata (setup.py) ... \u001b[?25l\u001b[?25hdone\n",
            "Requirement already satisfied: numpy>=1.6.0 in /usr/local/lib/python3.8/dist-packages (from scikit-fuzzy) (1.22.4)\n",
            "Requirement already satisfied: scipy>=0.9.0 in /usr/local/lib/python3.8/dist-packages (from scikit-fuzzy) (1.10.1)\n",
            "Requirement already satisfied: networkx>=1.9.0 in /usr/local/lib/python3.8/dist-packages (from scikit-fuzzy) (3.0)\n",
            "Building wheels for collected packages: scikit-fuzzy\n",
            "  Building wheel for scikit-fuzzy (setup.py) ... \u001b[?25l\u001b[?25hdone\n",
            "  Created wheel for scikit-fuzzy: filename=scikit_fuzzy-0.4.2-py3-none-any.whl size=894088 sha256=fa8d0a8727e3776b287c9fdb6088843cd155ddba880d911f907598f4b7fcef39\n",
            "  Stored in directory: /root/.cache/pip/wheels/2c/04/80/7eefb1a2de7d36aefd06432fab2a1486caf0a0596a7067391a\n",
            "Successfully built scikit-fuzzy\n",
            "Installing collected packages: scikit-fuzzy\n",
            "Successfully installed scikit-fuzzy-0.4.2\n"
          ]
        }
      ],
      "source": [
        "pip install scikit-fuzzy"
      ]
    },
    {
      "cell_type": "code",
      "source": [
        "import numpy as np \n",
        "import skfuzzy as fuzz\n",
        "import matplotlib.pyplot as plt\n",
        "\n",
        "# Tạo một mảng giá trị\n",
        "x = np.arange(50,151,1)\n",
        "# Động cơ có dạng tam giác --> triangle(x[a,b,c])\n",
        "example1= fuzz.trapmf(x,[50,50,70,99 ])\n",
        "example2= fuzz.trimf(x,[100,105,125])\n",
        "example3= fuzz.trapmf(x,[125,135,150,150 ])\n",
        "\n",
        "y = np.arange(0,21,1)\n",
        "\n",
        "y1 = fuzz.trapmf(y,[0, 0, 3, 5])\n",
        "y2 = fuzz.trimf(y,[4, 5, 7])\n",
        "y3 = fuzz.trimf(y,[6, 9, 12])\n",
        "y4 = fuzz.trimf(y,[11, 12, 14])\n",
        "y5 = fuzz.trapmf(y,[13, 16, 20, 20])\n",
        "\n",
        "z = np.arange(0, 3501,1)\n",
        "\n",
        "z1 = fuzz.trapmf(z,[0, 0, 125, 150])\n",
        "z2 = fuzz.trimf(z,[150, 350, 500])\n",
        "z3 = fuzz.trimf(z,[500, 800, 1000])\n",
        "z4 = fuzz.trimf(z,[1000, 2100, 3000])\n",
        "z5 = fuzz.trapmf(z,[2800, 3000, 3500, 3500])\n",
        "\n",
        "\n",
        "# Vẽ đồ thị và cho hiển thị màu \n",
        "plt.figure()\n",
        "#plt.plot(x,example1,'k',linewidth=1.5,label = 'example1')\n",
        "#plt.plot(x,example2,'r',linewidth=1.5,label = 'example2')\n",
        "#plt.plot(x,example3,'b',linewidth=1.5,label = 'example3')\n",
        "\n",
        "#plt.plot(y,y1,'k',linewidth=1.5,label = 'y1')\n",
        "#plt.plot(y,y2,'b',linewidth=1.5,label = 'y2')\n",
        "#plt.plot(y,y3,'r',linewidth=1.5,label = 'y3')\n",
        "#plt.plot(y,y4,'r',linewidth=1.5,label = 'y4')\n",
        "#plt.plot(y,y5,'y',linewidth=1.5,label = 'y5')\n",
        "\n",
        "plt.plot(z,z1,'k',linewidth=1.5,label = 'z1')\n",
        "plt.plot(z,z2,'g',linewidth=1.5,label = 'z2')\n",
        "plt.plot(z,z3,'b',linewidth=1.5,label = 'z3')\n",
        "plt.plot(z,z4,'y',linewidth=1.5,label = 'z4')\n",
        "plt.plot(z,z5,'r',linewidth=1.5,label = 'z5')\n"
      ],
      "metadata": {
        "colab": {
          "base_uri": "https://localhost:8080/",
          "height": 282
        },
        "id": "5bfWIj866kGE",
        "outputId": "46851050-6554-48c3-9677-d5fe865a0807"
      },
      "execution_count": 2,
      "outputs": [
        {
          "output_type": "execute_result",
          "data": {
            "text/plain": [
              "[<matplotlib.lines.Line2D at 0x7f21ddb8cee0>]"
            ]
          },
          "metadata": {},
          "execution_count": 2
        },
        {
          "output_type": "display_data",
          "data": {
            "text/plain": [
              "<Figure size 432x288 with 1 Axes>"
            ],
            "image/png": "[encoded data removed]"
          },
          "metadata": {
            "needs_background": "light"
          }
        }
      ]
    }
  ]
}