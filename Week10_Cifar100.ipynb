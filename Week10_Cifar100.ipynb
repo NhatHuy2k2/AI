{
  "nbformat": 4,
  "nbformat_minor": 0,
  "metadata": {
    "colab": {
      "provenance": [],
      "mount_file_id": "18skiEWCQFM9gvlX1ocF2vXZwCo11chzm",
      "authorship_tag": "ABX9TyO18INqHPBj401WmiLICirA",
      "include_colab_link": true
    },
    "kernelspec": {
      "name": "python3",
      "display_name": "Python 3"
    },
    "language_info": {
      "name": "python"
    }
  },
  "cells": [
    {
      "cell_type": "markdown",
      "metadata": {
        "id": "view-in-github",
        "colab_type": "text"
      },
      "source": [
        "<a href=\"https://colab.research.google.com/github/NhatHuy2k2/AI/blob/main/Week10_Cifar100.ipynb\" target=\"_parent\"><img src=\"https://colab.research.google.com/assets/colab-badge.svg\" alt=\"Open In Colab\"/></a>"
      ]
    },
    {
      "cell_type": "code",
      "execution_count": null,
      "metadata": {
        "id": "MJ8vJhSmwykD"
      },
      "outputs": [],
      "source": [
        "from keras.datasets import cifar100\n",
        "from keras.models import Sequential\n",
        "from keras.layers import Dense\n",
        "from keras import Input\n",
        "import matplotlib.pyplot as plt\n",
        "from keras.utils import to_categorical"
      ]
    },
    {
      "cell_type": "code",
      "source": [
        "(x_train, y_train), (x_test, y_test) = cifar100.load_data()\n",
        "print(x_train.shape)\n",
        "print(x_test.shape)\n",
        "#print(x_train)"
      ],
      "metadata": {
        "colab": {
          "base_uri": "https://localhost:8080/"
        },
        "id": "hoAcMrbaxKQA",
        "outputId": "3a9856a8-c06f-415e-c108-c1daaa3d5e50"
      },
      "execution_count": null,
      "outputs": [
        {
          "output_type": "stream",
          "name": "stdout",
          "text": [
            "(50000, 32, 32, 3)\n",
            "(10000, 32, 32, 3)\n"
          ]
        }
      ]
    },
    {
      "cell_type": "code",
      "source": [
        "# Chuẩn bị dữ liệu đầu vào, biến đổi mảng 4 chiều (50000, 32, 32, 3) (50000 bức hình, kích thước 32x32, 3 kênh màu) thành mảng 2 chiều (50000, 3072)\n",
        "x_train = x_train.reshape((50000, 32*32*3)) #chỉnh lại kích thước của dữ liệu đầu vào\n",
        "x_train = x_train.astype('float32')/255 #astype qua float để thực hiện phép chia\n",
        "#print(x_train)\n",
        "\n",
        "x_test = x_test.reshape((10000, 32*32*3)) #chỉnh lại kích thước của dữ liệu đầu vào\n",
        "x_test = x_test.astype('float32')/255 #astype qua float để thực hiện phép chia\n",
        "#print(x_test)"
      ],
      "metadata": {
        "id": "2sYKAU8ozRrw"
      },
      "execution_count": null,
      "outputs": []
    },
    {
      "cell_type": "code",
      "source": [
        "# Chuẩn bị dữ liệu đầu ra \n",
        "from keras.utils import to_categorical #chuyển thành one hot encoding\n",
        "train_label = to_categorical(y_train,100)#chuyển thành 10 bit one hot encoding\n",
        "test_label =to_categorical(y_test,100)\n",
        "print(y_test)"
      ],
      "metadata": {
        "colab": {
          "base_uri": "https://localhost:8080/"
        },
        "id": "DfLmtfIX20oq",
        "outputId": "dc7a34bd-3591-4b78-c0c7-d70bdf70f153"
      },
      "execution_count": null,
      "outputs": [
        {
          "output_type": "stream",
          "name": "stdout",
          "text": [
            "[[49]\n",
            " [33]\n",
            " [72]\n",
            " ...\n",
            " [51]\n",
            " [42]\n",
            " [70]]\n"
          ]
        }
      ]
    },
    {
      "cell_type": "code",
      "source": [
        "model = Sequential()\n",
        "model.add(Dense(2000,activation = \"relu\", input_shape = (32*32*3,),name = 'layer1'))\n",
        "model.add(Dense(1000,activation = \"relu\",name = 'layer2'))\n",
        "model.add(Dense(100, activation = \"softmax\",name = 'layer3'))\n",
        "model.summary"
      ],
      "metadata": {
        "colab": {
          "base_uri": "https://localhost:8080/"
        },
        "id": "T5Slyz6Kxggx",
        "outputId": "edf676a2-5827-4d40-804b-640503bc4db4"
      },
      "execution_count": null,
      "outputs": [
        {
          "output_type": "execute_result",
          "data": {
            "text/plain": [
              "<bound method Model.summary of <keras.engine.sequential.Sequential object at 0x7f3fbeb0cdc0>>"
            ]
          },
          "metadata": {},
          "execution_count": 5
        }
      ]
    },
    {
      "cell_type": "code",
      "source": [
        "model.compile(optimizer = 'rmsprop', loss = 'categorical_crossentropy', metrics = ['accuracy'])\n",
        "model.fit(x_train, train_label, epochs = 10, batch_size = 128)\n",
        "test_loss, test_acc = model.evaluate(x_test, test_label)\n",
        "print('test_accuracy: ', test_acc)\n",
        "print('test_loss: ', test_loss)"
      ],
      "metadata": {
        "id": "w5MkHa4yypcv",
        "colab": {
          "base_uri": "https://localhost:8080/"
        },
        "outputId": "a02bcc8b-4ff7-4435-d41a-47b86aaed0d9"
      },
      "execution_count": null,
      "outputs": [
        {
          "output_type": "stream",
          "name": "stdout",
          "text": [
            "Epoch 1/10\n",
            "391/391 [==============================] - 72s 182ms/step - loss: 4.3223 - accuracy: 0.0695\n",
            "Epoch 2/10\n",
            "391/391 [==============================] - 70s 178ms/step - loss: 3.7216 - accuracy: 0.1341\n",
            "Epoch 3/10\n",
            "391/391 [==============================] - 82s 209ms/step - loss: 3.5375 - accuracy: 0.1649\n",
            "Epoch 4/10\n",
            "391/391 [==============================] - 71s 182ms/step - loss: 3.4105 - accuracy: 0.1873\n",
            "Epoch 5/10\n",
            "391/391 [==============================] - 78s 200ms/step - loss: 3.2965 - accuracy: 0.2101\n",
            "Epoch 6/10\n",
            "391/391 [==============================] - 78s 201ms/step - loss: 3.2122 - accuracy: 0.2245\n",
            "Epoch 7/10\n",
            "391/391 [==============================] - 70s 179ms/step - loss: 3.1250 - accuracy: 0.2407\n",
            "Epoch 8/10\n",
            "391/391 [==============================] - 71s 181ms/step - loss: 3.0444 - accuracy: 0.2552\n",
            "Epoch 9/10\n",
            "391/391 [==============================] - 72s 185ms/step - loss: 2.9734 - accuracy: 0.2674\n",
            "Epoch 10/10\n",
            "391/391 [==============================] - 80s 204ms/step - loss: 2.9026 - accuracy: 0.2815\n",
            "313/313 [==============================] - 6s 19ms/step - loss: 3.3422 - accuracy: 0.2285\n",
            "test_accuracy:  0.22849999368190765\n",
            "test_loss:  3.342203140258789\n"
          ]
        }
      ]
    },
    {
      "cell_type": "code",
      "source": [
        "model.save('/content/drive/MyDrive/Trained model/Week10_Cifar100.h5')"
      ],
      "metadata": {
        "id": "e_zQFSmG6sEL"
      },
      "execution_count": null,
      "outputs": []
    }
  ]
}