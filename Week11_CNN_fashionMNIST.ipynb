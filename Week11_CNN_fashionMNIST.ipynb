{
  "nbformat": 4,
  "nbformat_minor": 0,
  "metadata": {
    "colab": {
      "provenance": [],
      "mount_file_id": "1Obz2QrdW3H_mZngNHDlnRixSS-dHhy32",
      "authorship_tag": "ABX9TyNLswuXObKMJKFGZTekdf2N",
      "include_colab_link": true
    },
    "kernelspec": {
      "name": "python3",
      "display_name": "Python 3"
    },
    "language_info": {
      "name": "python"
    }
  },
  "cells": [
    {
      "cell_type": "markdown",
      "metadata": {
        "id": "view-in-github",
        "colab_type": "text"
      },
      "source": [
        "<a href=\"https://colab.research.google.com/github/NhatHuy2k2/AI/blob/main/Week11_CNN_fashionMNIST.ipynb\" target=\"_parent\"><img src=\"https://colab.research.google.com/assets/colab-badge.svg\" alt=\"Open In Colab\"/></a>"
      ]
    },
    {
      "cell_type": "code",
      "execution_count": 27,
      "metadata": {
        "id": "eNZOjLW-3dom"
      },
      "outputs": [],
      "source": [
        "from keras.datasets import fashion_mnist\n",
        "import matplotlib.pyplot as plt"
      ]
    },
    {
      "cell_type": "code",
      "source": [
        "(train_X, train_Y), (test_X, test_Y)= fashion_mnist.load_data()\n",
        "print(train_X.shape)\n",
        "print(train_Y.shape)"
      ],
      "metadata": {
        "colab": {
          "base_uri": "https://localhost:8080/"
        },
        "id": "jX5PHdqx3wWS",
        "outputId": "f7bd8eb4-e721-4b2c-c345-bc3279294090"
      },
      "execution_count": 28,
      "outputs": [
        {
          "output_type": "stream",
          "name": "stdout",
          "text": [
            "(60000, 28, 28)\n",
            "(60000,)\n"
          ]
        }
      ]
    },
    {
      "cell_type": "code",
      "source": [
        "plt.figure(figsize = [10, 10])\n",
        "plt.subplot(1,2,1)\n",
        "plt.imshow(train_X[0,:,:], cmap = 'gray')\n",
        "plt.title(\"Số: {}\".format(train_Y[0]))\n",
        "plt.subplot(1,2,2)\n",
        "plt.imshow(train_X[100,:,:], cmap = 'gray')\n",
        "plt.title(\"Số: {}\".format(train_Y[100]))\n"
      ],
      "metadata": {
        "colab": {
          "base_uri": "https://localhost:8080/",
          "height": 452
        },
        "id": "TxHh6xTU4bWH",
        "outputId": "6b5f8cd2-c309-46e2-d07b-a061132955c4"
      },
      "execution_count": 29,
      "outputs": [
        {
          "output_type": "execute_result",
          "data": {
            "text/plain": [
              "Text(0.5, 1.0, 'Số: 8')"
            ]
          },
          "metadata": {},
          "execution_count": 29
        },
        {
          "output_type": "display_data",
          "data": {
            "text/plain": [
              "<Figure size 1000x1000 with 2 Axes>"
            ],
            "image/png": "[encoded data removed]"
          },
          "metadata": {}
        }
      ]
    },
    {
      "cell_type": "code",
      "source": [
        "train_X = train_X.reshape(60000, 28, 28, 1)\n",
        "test_X = test_X.reshape(10000, 28, 28, 1)\n",
        "train_X.shape, test_X.shape"
      ],
      "metadata": {
        "colab": {
          "base_uri": "https://localhost:8080/"
        },
        "id": "Kb0OPFvy5euw",
        "outputId": "32c6b77b-9044-41d2-b8e8-bbc347055ebd"
      },
      "execution_count": 30,
      "outputs": [
        {
          "output_type": "execute_result",
          "data": {
            "text/plain": [
              "((60000, 28, 28, 1), (10000, 28, 28, 1))"
            ]
          },
          "metadata": {},
          "execution_count": 30
        }
      ]
    },
    {
      "cell_type": "code",
      "source": [
        "train_X = train_X.astype('float32')/255\n",
        "test_X = test_X.astype('float32')/255"
      ],
      "metadata": {
        "id": "qw1EyX_p6CSY"
      },
      "execution_count": 31,
      "outputs": []
    },
    {
      "cell_type": "code",
      "source": [
        "from keras.utils import to_categorical\n",
        "train_Y_categorized = to_categorical(train_Y)\n",
        "test_Y_categorized = to_categorical(test_Y)\n"
      ],
      "metadata": {
        "id": "0NiCEqWe6YXQ"
      },
      "execution_count": 32,
      "outputs": []
    },
    {
      "cell_type": "code",
      "source": [
        "from keras.models import Sequential, model_from_config\n",
        "from keras import Input\n",
        "from keras.layers import Dense, Flatten, Dropout, Conv2D, MaxPooling2D, Normalization\n",
        "# Normalization: chuẩn hóa dữ liệu\n",
        "from keras.optimizers import Adam\n",
        "batch_size = 64 # Lô học \n",
        "epochs = 2 # Số lần học\n",
        "classes = 10 # Phân loại\n"
      ],
      "metadata": {
        "id": "N8l48BG77VMg"
      },
      "execution_count": 33,
      "outputs": []
    },
    {
      "cell_type": "markdown",
      "source": [
        "CNN (Convolution Neural Network): dùng để trích xuất đặc tính của tập dữ liệu qua việc nhân tích chập ma trận với các kernel"
      ],
      "metadata": {
        "id": "NFvW5pDoAZ7o"
      }
    },
    {
      "cell_type": "code",
      "source": [
        "model = Sequential()\n",
        "model.add(Conv2D(32, kernel_size = (3,3), activation = 'linear', input_shape = (28, 28, 1), padding = 'same'))\n",
        "#Conv2d(): tham số đầu: số lần nhân tích chập; tham số thứ 2: kích thước kernel\n",
        "from keras.layers import LeakyReLU\n",
        "model.add(LeakyReLU(alpha = 0.1))\n",
        "model.add(MaxPooling2D((2,2), padding = 'same'))\n",
        "model.add(Conv2D(64, (3,3), activation = 'linear', padding = 'same'))\n",
        "\n",
        "model.add(Conv2D(64, kernel_size = (3,3), activation = 'linear', input_shape = (28, 28, 1), padding = 'same'))\n",
        "model.add(LeakyReLU(alpha = 0.1))\n",
        "model.add(MaxPooling2D((2,2), padding = 'same'))\n",
        "\n",
        "model.add(Conv2D(128, kernel_size = (3,3), activation = 'linear', input_shape = (28, 28, 1), padding = 'same'))\n",
        "model.add(LeakyReLU(alpha = 0.1))\n",
        "model.add(MaxPooling2D((2,2), padding = 'same'))\n"
      ],
      "metadata": {
        "id": "pkr7Ycmd9JFI"
      },
      "execution_count": 34,
      "outputs": []
    },
    {
      "cell_type": "markdown",
      "source": [
        "ANN (Artificial Neural Network): dùng để phân loại dữ liệu ảnh"
      ],
      "metadata": {
        "id": "Z0VsFAzyAwPo"
      }
    },
    {
      "cell_type": "code",
      "source": [
        "model.add(Flatten()) # Flatten: hàm ép kiểu ma trận thành vector\n",
        "model.add(Dense(128,activation = \"linear\"))\n",
        "model.add(LeakyReLU(alpha = 0.1))\n",
        "model.add(Dense(classes, activation = \"softmax\"))"
      ],
      "metadata": {
        "id": "9aUUH_c-AC0o"
      },
      "execution_count": 35,
      "outputs": []
    },
    {
      "cell_type": "code",
      "source": [
        "model.compile(loss = 'categorical_crossentropy', optimizer = Adam(), metrics = ['accuracy'])\n",
        "model.summary()\n",
        "train = model.fit(train_X, train_Y_categorized, batch_size = batch_size, epochs = epochs, verbose = 1)\n",
        "# verbose: hiển thị kết quả"
      ],
      "metadata": {
        "colab": {
          "base_uri": "https://localhost:8080/"
        },
        "id": "cxJIjVgmBRKZ",
        "outputId": "7f30b31e-b97f-490e-9d36-0bf3fc63a51b"
      },
      "execution_count": 36,
      "outputs": [
        {
          "output_type": "stream",
          "name": "stdout",
          "text": [
            "Model: \"sequential_4\"\n",
            "_________________________________________________________________\n",
            " Layer (type)                Output Shape              Param #   \n",
            "=================================================================\n",
            " conv2d_7 (Conv2D)           (None, 28, 28, 32)        320       \n",
            "                                                                 \n",
            " leaky_re_lu_5 (LeakyReLU)   (None, 28, 28, 32)        0         \n",
            "                                                                 \n",
            " max_pooling2d_3 (MaxPooling  (None, 14, 14, 32)       0         \n",
            " 2D)                                                             \n",
            "                                                                 \n",
            " conv2d_8 (Conv2D)           (None, 14, 14, 64)        18496     \n",
            "                                                                 \n",
            " conv2d_9 (Conv2D)           (None, 14, 14, 64)        36928     \n",
            "                                                                 \n",
            " leaky_re_lu_6 (LeakyReLU)   (None, 14, 14, 64)        0         \n",
            "                                                                 \n",
            " max_pooling2d_4 (MaxPooling  (None, 7, 7, 64)         0         \n",
            " 2D)                                                             \n",
            "                                                                 \n",
            " conv2d_10 (Conv2D)          (None, 7, 7, 128)         73856     \n",
            "                                                                 \n",
            " leaky_re_lu_7 (LeakyReLU)   (None, 7, 7, 128)         0         \n",
            "                                                                 \n",
            " max_pooling2d_5 (MaxPooling  (None, 4, 4, 128)        0         \n",
            " 2D)                                                             \n",
            "                                                                 \n",
            " flatten_2 (Flatten)         (None, 2048)              0         \n",
            "                                                                 \n",
            " dense_4 (Dense)             (None, 128)               262272    \n",
            "                                                                 \n",
            " leaky_re_lu_8 (LeakyReLU)   (None, 128)               0         \n",
            "                                                                 \n",
            " dense_5 (Dense)             (None, 10)                1290      \n",
            "                                                                 \n",
            "=================================================================\n",
            "Total params: 393,162\n",
            "Trainable params: 393,162\n",
            "Non-trainable params: 0\n",
            "_________________________________________________________________\n",
            "Epoch 1/2\n",
            "938/938 [==============================] - 140s 149ms/step - loss: 0.4147 - accuracy: 0.8500\n",
            "Epoch 2/2\n",
            "938/938 [==============================] - 143s 153ms/step - loss: 0.2672 - accuracy: 0.9026\n"
          ]
        }
      ]
    },
    {
      "cell_type": "code",
      "source": [
        "model.save('/content/drive/MyDrive/Trained model/Week11_CNN_fasionMNIST.h5')"
      ],
      "metadata": {
        "id": "eAY0LKvxHiy0"
      },
      "execution_count": 37,
      "outputs": []
    }
  ]
}