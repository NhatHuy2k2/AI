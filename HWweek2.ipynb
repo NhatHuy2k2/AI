{
  "nbformat": 4,
  "nbformat_minor": 0,
  "metadata": {
    "colab": {
      "provenance": [],
      "authorship_tag": "ABX9TyMgdqGU3ZK9mGK+zOS1txFy",
      "include_colab_link": true
    },
    "kernelspec": {
      "name": "python3",
      "display_name": "Python 3"
    },
    "language_info": {
      "name": "python"
    }
  },
  "cells": [
    {
      "cell_type": "markdown",
      "metadata": {
        "id": "view-in-github",
        "colab_type": "text"
      },
      "source": [
        "<a href=\"https://colab.research.google.com/github/NhatHuy2k2/AI/blob/main/HWweek2.ipynb\" target=\"_parent\"><img src=\"https://colab.research.google.com/assets/colab-badge.svg\" alt=\"Open In Colab\"/></a>"
      ]
    },
    {
      "cell_type": "code",
      "execution_count": 1,
      "metadata": {
        "colab": {
          "base_uri": "https://localhost:8080/"
        },
        "id": "Qxh81Zjz5dUA",
        "outputId": "ab4df32f-dd95-4336-fe45-e7a31f84ba1d"
      },
      "outputs": [
        {
          "output_type": "execute_result",
          "data": {
            "text/plain": [
              "Skiing        354\n",
              "Skating       254\n",
              "Biathlon       54\n",
              "Bobsleigh      45\n",
              "Luge           37\n",
              "Ice Hockey     23\n",
              "Curling         7\n",
              "Name: Sport, dtype: int64"
            ]
          },
          "metadata": {},
          "execution_count": 1
        }
      ],
      "source": [
        "import pandas as pd\n",
        "url = 'http://winterolympicsmedals.com/medals.csv'\n",
        "dataframe = pd.read_csv(url)\n",
        "gold = dataframe[dataframe['Medal']=='Gold']\n",
        "# Số huy chương vàng của mỗi môn\n",
        "gold['Sport'].value_counts()"
      ]
    },
    {
      "cell_type": "code",
      "source": [
        "import pandas as pd\n",
        "url = 'http://winterolympicsmedals.com/medals.csv'\n",
        "dataframe = pd.read_csv(url)\n",
        "country = dataframe[dataframe['NOC']=='USA']\n",
        "# Số huy chương đồng, vàng, bạc của Mỹ\n",
        "country['Medal'].value_counts()"
      ],
      "metadata": {
        "colab": {
          "base_uri": "https://localhost:8080/"
        },
        "id": "BiT8_2Cw5f3t",
        "outputId": "aa55d113-d888-428a-9ea7-23c3c6a047b6"
      },
      "execution_count": 2,
      "outputs": [
        {
          "output_type": "execute_result",
          "data": {
            "text/plain": [
              "Silver    80\n",
              "Gold      78\n",
              "Bronze    58\n",
              "Name: Medal, dtype: int64"
            ]
          },
          "metadata": {},
          "execution_count": 2
        }
      ]
    },
    {
      "cell_type": "code",
      "source": [],
      "metadata": {
        "id": "rHnS0Kax5mA1"
      },
      "execution_count": null,
      "outputs": []
    }
  ]
}