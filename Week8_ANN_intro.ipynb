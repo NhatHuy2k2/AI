{
  "nbformat": 4,
  "nbformat_minor": 0,
  "metadata": {
    "colab": {
      "provenance": [],
      "authorship_tag": "ABX9TyPw3PtU0nsm3iGYhJ8/EGQ2",
      "include_colab_link": true
    },
    "kernelspec": {
      "name": "python3",
      "display_name": "Python 3"
    },
    "language_info": {
      "name": "python"
    }
  },
  "cells": [
    {
      "cell_type": "markdown",
      "metadata": {
        "id": "view-in-github",
        "colab_type": "text"
      },
      "source": [
        "<a href=\"https://colab.research.google.com/github/NhatHuy2k2/AI/blob/main/Week8_ANN_intro.ipynb\" target=\"_parent\"><img src=\"https://colab.research.google.com/assets/colab-badge.svg\" alt=\"Open In Colab\"/></a>"
      ]
    },
    {
      "cell_type": "code",
      "execution_count": 7,
      "metadata": {
        "id": "qzhWr3s6qIRQ"
      },
      "outputs": [],
      "source": [
        "from sklearn.linear_model import Perceptron\n"
      ]
    },
    {
      "cell_type": "markdown",
      "source": [
        "Training \"NOT\" logic gate model"
      ],
      "metadata": {
        "id": "tQ14FVdEs8NP"
      }
    },
    {
      "cell_type": "code",
      "source": [
        "x = [[0,0],[0,1],[1,0],[1,1]]\n",
        "t = [0,1,1,1]\n",
        "# number of columns indicates number of features (variables)\n",
        "# number of rows indicates number of samples\n",
        "# number of input rows must be equal to the number of output columns\n",
        "model = Perceptron()\n",
        "model.fit(x, t)\n",
        "model.score(x, t)\n"
      ],
      "metadata": {
        "colab": {
          "base_uri": "https://localhost:8080/"
        },
        "id": "CJkn73IBqpDY",
        "outputId": "ea037a7e-612d-4cf1-f679-9a547a4357e1"
      },
      "execution_count": 10,
      "outputs": [
        {
          "output_type": "stream",
          "name": "stdout",
          "text": [
            "[1 1 0]\n"
          ]
        }
      ]
    },
    {
      "cell_type": "markdown",
      "source": [
        "Testing with different inputs"
      ],
      "metadata": {
        "id": "VM_Js5ngtAff"
      }
    },
    {
      "cell_type": "code",
      "source": [
        "x1 = [[0.5, 1],[0.5, 0.5],[-10, 1]]\n",
        "x2 = [[0.7, 0],[-1, 5],[3.14, 99999999]]\n",
        "\n",
        "y1 = model.predict(x1)\n",
        "print(y1)\n",
        "model.score(x1, y1)\n",
        "\n",
        "y2 = model.predict(x2)\n",
        "print(y2)\n",
        "model.score(x2, y2)"
      ],
      "metadata": {
        "colab": {
          "base_uri": "https://localhost:8080/"
        },
        "id": "-GbrAD3sscS_",
        "outputId": "e2f06895-8577-411f-93f3-96822f8183af"
      },
      "execution_count": 13,
      "outputs": [
        {
          "output_type": "stream",
          "name": "stdout",
          "text": [
            "[1 1 0]\n",
            "[1 1 1]\n"
          ]
        },
        {
          "output_type": "execute_result",
          "data": {
            "text/plain": [
              "1.0"
            ]
          },
          "metadata": {},
          "execution_count": 13
        }
      ]
    },
    {
      "cell_type": "code",
      "source": [
        "x_2 = [[-0.5,-0.5],[-0.5,0.5],[0.3,-0.5],[-0.1,1]]\n",
        "t_2 = [1,1,0,0]\n",
        "# number of columns indicates number of features (variables)\n",
        "# number of rows indicates number of samples\n",
        "# number of input rows must be equal to the number of output columns\n",
        "model_2 = Perceptron()\n",
        "model_2.fit(x_2, t_2)\n",
        "model_2.score(x_2, t_2)"
      ],
      "metadata": {
        "colab": {
          "base_uri": "https://localhost:8080/"
        },
        "id": "3LshV9wyuak-",
        "outputId": "95fc7094-c2c1-4bd7-c8c9-8bec807ce51d"
      },
      "execution_count": 16,
      "outputs": [
        {
          "output_type": "execute_result",
          "data": {
            "text/plain": [
              "1.0"
            ]
          },
          "metadata": {},
          "execution_count": 16
        }
      ]
    },
    {
      "cell_type": "code",
      "source": [
        "print(\"x1 = [[0.5, 1],[0.5, 0.5],[-10, 1]]\")\n",
        "\n",
        "y1 = model_2.predict(x1)\n",
        "print(y1)\n",
        "print(model_2.score(x1, y1))\n",
        "print(\"\\n\")\n",
        "\n",
        "print(\"x2 = [[0.7, 0],[-1, 5],[3.14, 99999999]]\")\n",
        "y2 = model_2.predict(x2)\n",
        "print(y2)\n",
        "print(model_2.score(x2, y2))"
      ],
      "metadata": {
        "colab": {
          "base_uri": "https://localhost:8080/"
        },
        "id": "1s9EVwbju2hW",
        "outputId": "c04e50b0-85bf-455f-d713-f0d0cc77e85d"
      },
      "execution_count": 26,
      "outputs": [
        {
          "output_type": "stream",
          "name": "stdout",
          "text": [
            "x1 = [[0.5, 1],[0.5, 0.5],[-10, 1]]\n",
            "[0 0 1]\n",
            "1.0\n",
            "\n",
            "\n",
            "x2 = [[0.7, 0],[-1, 5],[3.14, 99999999]]\n",
            "[0 0 0]\n",
            "1.0\n"
          ]
        }
      ]
    }
  ]
}